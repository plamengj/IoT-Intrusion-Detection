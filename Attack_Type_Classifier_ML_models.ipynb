{
 "cells": [
  {
   "cell_type": "code",
   "execution_count": 22,
   "metadata": {},
   "outputs": [],
   "source": [
    "import pandas as pd\n",
    "import numpy as np\n",
    "import seaborn as sns\n",
    "import matplotlib.pyplot as plt\n",
    "plt.style.use('ggplot')\n",
    "%matplotlib inline\n",
    "\n",
    "from sklearn.compose import ColumnTransformer\n",
    "from sklearn.preprocessing import StandardScaler, LabelEncoder, OneHotEncoder\n",
    "\n",
    "from sklearn.model_selection import train_test_split\n",
    "from sklearn.model_selection import cross_val_score, cross_validate, StratifiedKFold\n",
    "from sklearn.metrics import precision_recall_curve, precision_score, recall_score, f1_score, accuracy_score\n",
    "from sklearn.metrics import roc_curve, auc, roc_auc_score, confusion_matrix, classification_report\n",
    "\n",
    "from sklearn.linear_model import LogisticRegression\n",
    "from sklearn.tree import DecisionTreeClassifier\n",
    "from sklearn.ensemble import RandomForestClassifier, GradientBoostingClassifier\n",
    "from sklearn.neural_network import MLPClassifier"
   ]
  },
  {
   "cell_type": "code",
   "execution_count": 23,
   "metadata": {},
   "outputs": [],
   "source": [
    "initial_data = pd.read_csv('UNSW_NB15_training-set-modified.csv')"
   ]
  },
  {
   "cell_type": "code",
   "execution_count": 24,
   "metadata": {},
   "outputs": [],
   "source": [
    "data_to_use = initial_data.dropna()"
   ]
  },
  {
   "cell_type": "code",
   "execution_count": 25,
   "metadata": {},
   "outputs": [
    {
     "data": {
      "text/plain": [
       "(175341, 41)"
      ]
     },
     "execution_count": 25,
     "metadata": {},
     "output_type": "execute_result"
    }
   ],
   "source": [
    "data_to_use.shape"
   ]
  },
  {
   "cell_type": "code",
   "execution_count": 26,
   "metadata": {},
   "outputs": [],
   "source": [
    "X = data_to_use.drop(axis=1, columns=['attack_cat']) # X is a dataframe\n",
    "X = X.drop(axis=1, columns=['label'])\n",
    "\n",
    "y1 = data_to_use['attack_cat'].values # y is an array\n",
    "y2 = data_to_use['label'].values"
   ]
  },
  {
   "cell_type": "code",
   "execution_count": 27,
   "metadata": {},
   "outputs": [],
   "source": [
    "def data_ratio(y2):\n",
    "    '''\n",
    "    Calculate Y2's ratio\n",
    "    '''\n",
    "    unique, count = np.unique(y2, return_counts=True)\n",
    "    ratio = round(count[0]/count[1], 1)\n",
    "    return f'{ratio}:1 ({count[0]}/{count[1]})'"
   ]
  },
  {
   "cell_type": "code",
   "execution_count": 28,
   "metadata": {},
   "outputs": [
    {
     "data": {
      "image/png": "[encoded data removed]",
      "text/plain": [
       "<Figure size 936x360 with 1 Axes>"
      ]
     },
     "metadata": {
      "needs_background": "light"
     },
     "output_type": "display_data"
    },
    {
     "name": "stdout",
     "output_type": "stream",
     "text": [
      "The class ratio for the original data: 0.5:1 (56000/119341)\n"
     ]
    },
    {
     "data": {
      "image/png": "[encoded data removed]",
      "text/plain": [
       "<Figure size 432x288 with 1 Axes>"
      ]
     },
     "metadata": {
      "needs_background": "light"
     },
     "output_type": "display_data"
    }
   ],
   "source": [
    "plt.figure(figsize=(13,5))\n",
    "sns.countplot(y1,label=\"Sum\")\n",
    "plt.show()\n",
    "\n",
    "print('The class ratio for the original data:', data_ratio(y2))\n",
    "sns.countplot(y2,label=\"Sum\")\n",
    "plt.show()"
   ]
  },
  {
   "cell_type": "code",
   "execution_count": 29,
   "metadata": {},
   "outputs": [],
   "source": [
    "test_data = pd.read_csv('UNSW_NB15_testing-set-modified.csv')\n",
    "X_test = test_data.drop(axis=1, columns=['attack_cat']) # X_test is a dataframe\n",
    "X_test = X_test.drop(axis=1, columns=['label'])\n",
    "\n",
    "y1_test = test_data['attack_cat'].values # y is an array\n",
    "y2_test = test_data['label'].values\n",
    "X_train = X\n",
    "y1_train = y1\n",
    "y2_train = y2"
   ]
  },
  {
   "cell_type": "code",
   "execution_count": 30,
   "metadata": {},
   "outputs": [],
   "source": [
    "numerical_cols = X_train.select_dtypes(include=['int64', 'float64']).columns\n",
    "categorical_cols = X_train.select_dtypes(include=['object', 'bool']).columns"
   ]
  },
  {
   "cell_type": "code",
   "execution_count": 31,
   "metadata": {},
   "outputs": [
    {
     "data": {
      "text/plain": [
       "Index(['dur', 'spkts', 'dpkts', 'sbytes', 'dbytes', 'rate', 'sttl', 'dttl',\n",
       "       'sload', 'dload', 'sloss', 'dloss', 'sinpkt', 'dinpkt', 'sjit', 'djit',\n",
       "       'swin', 'stcpb', 'dtcpb', 'dwin', 'tcprtt', 'synack', 'ackdat', 'smean',\n",
       "       'dmean', 'trans_depth', 'response_body_len', 'ct_srv_src',\n",
       "       'ct_state_ttl', 'ct_dst_ltm', 'ct_src_dport_ltm', 'ct_dst_sport_ltm',\n",
       "       'ct_dst_src_ltm', 'is_ftp_login', 'ct_ftp_cmd', 'ct_flw_http_mthd',\n",
       "       'ct_src_ltm', 'ct_srv_dst', 'is_sm_ips_ports'],\n",
       "      dtype='object')"
      ]
     },
     "execution_count": 31,
     "metadata": {},
     "output_type": "execute_result"
    }
   ],
   "source": [
    "numerical_cols"
   ]
  },
  {
   "cell_type": "code",
   "execution_count": 32,
   "metadata": {},
   "outputs": [
    {
     "data": {
      "text/plain": [
       "Index([], dtype='object')"
      ]
     },
     "execution_count": 32,
     "metadata": {},
     "output_type": "execute_result"
    }
   ],
   "source": [
    "categorical_cols"
   ]
  },
  {
   "cell_type": "code",
   "execution_count": 33,
   "metadata": {},
   "outputs": [
    {
     "data": {
      "text/plain": [
       "ColumnTransformer(n_jobs=None, remainder='drop', sparse_threshold=0.3,\n",
       "                  transformer_weights=None,\n",
       "                  transformers=[('ohe',\n",
       "                                 OneHotEncoder(categories='auto', drop='first',\n",
       "                                               dtype=<class 'numpy.float64'>,\n",
       "                                               handle_unknown='error',\n",
       "                                               sparse=True),\n",
       "                                 Index([], dtype='object')),\n",
       "                                ('scale',\n",
       "                                 StandardScaler(copy=True, with_mean=True,\n",
       "                                                with_std=True),\n",
       "                                 Index(['dur', 'spkts', 'dpkts', 'sbytes...\n",
       "       'sload', 'dload', 'sloss', 'dloss', 'sinpkt', 'dinpkt', 'sjit', 'djit',\n",
       "       'swin', 'stcpb', 'dtcpb', 'dwin', 'tcprtt', 'synack', 'ackdat', 'smean',\n",
       "       'dmean', 'trans_depth', 'response_body_len', 'ct_srv_src',\n",
       "       'ct_state_ttl', 'ct_dst_ltm', 'ct_src_dport_ltm', 'ct_dst_sport_ltm',\n",
       "       'ct_dst_src_ltm', 'is_ftp_login', 'ct_ftp_cmd', 'ct_flw_http_mthd',\n",
       "       'ct_src_ltm', 'ct_srv_dst', 'is_sm_ips_ports'],\n",
       "      dtype='object'))],\n",
       "                  verbose=False)"
      ]
     },
     "execution_count": 33,
     "metadata": {},
     "output_type": "execute_result"
    }
   ],
   "source": [
    "t = [('ohe', OneHotEncoder(drop='first'), categorical_cols),\n",
    "    ('scale', StandardScaler(), numerical_cols)]\n",
    "\n",
    "col_trans = ColumnTransformer(transformers=t)\n",
    "\n",
    "col_trans.fit(X_train)"
   ]
  },
  {
   "cell_type": "code",
   "execution_count": 34,
   "metadata": {},
   "outputs": [],
   "source": [
    "X_train_transform = col_trans.transform(X_train)"
   ]
  },
  {
   "cell_type": "code",
   "execution_count": 35,
   "metadata": {},
   "outputs": [],
   "source": [
    "X_test_transform = col_trans.transform(X_test)"
   ]
  },
  {
   "cell_type": "code",
   "execution_count": 36,
   "metadata": {},
   "outputs": [
    {
     "data": {
      "text/plain": [
       "(175341, 39)"
      ]
     },
     "execution_count": 36,
     "metadata": {},
     "output_type": "execute_result"
    }
   ],
   "source": [
    "X_train_transform.shape"
   ]
  },
  {
   "cell_type": "code",
   "execution_count": 37,
   "metadata": {},
   "outputs": [
    {
     "data": {
      "text/plain": [
       "(82332, 39)"
      ]
     },
     "execution_count": 37,
     "metadata": {},
     "output_type": "execute_result"
    }
   ],
   "source": [
    "X_test_transform.shape"
   ]
  },
  {
   "cell_type": "code",
   "execution_count": 38,
   "metadata": {},
   "outputs": [
    {
     "data": {
      "text/plain": [
       "array(['Normal', 'Backdoor', 'Analysis', 'Fuzzers', 'Shellcode',\n",
       "       'Reconnaissance', 'Exploits', 'DoS', 'Worms', 'Generic'],\n",
       "      dtype=object)"
      ]
     },
     "execution_count": 38,
     "metadata": {},
     "output_type": "execute_result"
    }
   ],
   "source": [
    "pd.unique(y1)"
   ]
  },
  {
   "cell_type": "code",
   "execution_count": 39,
   "metadata": {},
   "outputs": [
    {
     "data": {
      "text/plain": [
       "LabelEncoder()"
      ]
     },
     "execution_count": 39,
     "metadata": {},
     "output_type": "execute_result"
    }
   ],
   "source": [
    "target_trans = LabelEncoder()\n",
    "target_trans.fit(y1_train)"
   ]
  },
  {
   "cell_type": "code",
   "execution_count": 40,
   "metadata": {},
   "outputs": [],
   "source": [
    "y1_train_transform = target_trans.transform(y1_train)\n",
    "y1_test_transform = target_trans.transform(y1_test)"
   ]
  },
  {
   "cell_type": "code",
   "execution_count": 41,
   "metadata": {},
   "outputs": [
    {
     "data": {
      "text/plain": [
       "array([6, 6, 6, ..., 5, 5, 5])"
      ]
     },
     "execution_count": 41,
     "metadata": {},
     "output_type": "execute_result"
    }
   ],
   "source": [
    "y1_train_transform"
   ]
  },
  {
   "cell_type": "code",
   "execution_count": 42,
   "metadata": {},
   "outputs": [],
   "source": [
    "clf = LogisticRegression(solver='lbfgs', random_state=123, max_iter = 4000, multi_class = \"ovr\")\n",
    "\n",
    "cv = StratifiedKFold(n_splits=5, shuffle=True, random_state=123)\n",
    "\n",
    "scoring = ['accuracy', 'precision_micro', 'recall_micro', 'f1_micro', 'roc_auc_ovr']  \n",
    "\n",
    "cv_results = cross_validate(estimator=clf,\n",
    "                            X=X_train_transform,\n",
    "                            y=y1_train_transform,\n",
    "                            scoring=scoring,\n",
    "                            cv=cv,\n",
    "                            return_train_score=False) # prevent to show the train scores on cv splits."
   ]
  },
  {
   "cell_type": "code",
   "execution_count": 43,
   "metadata": {},
   "outputs": [
    {
     "data": {
      "text/plain": [
       "{'fit_time': array([123.87600827, 202.65023255, 140.01510358, 118.51406765,\n",
       "        116.22041392]),\n",
       " 'score_time': array([0.47701097, 0.59123421, 0.58822942, 0.33404875, 0.34530568]),\n",
       " 'test_accuracy': array([0.73640537, 0.73833695, 0.74090339, 0.74150222, 0.73907836]),\n",
       " 'test_precision_micro': array([0.73640537, 0.73833695, 0.74090339, 0.74150222, 0.73907836]),\n",
       " 'test_recall_micro': array([0.73640537, 0.73833695, 0.74090339, 0.74150222, 0.73907836]),\n",
       " 'test_f1_micro': array([0.73640537, 0.73833695, 0.74090339, 0.74150222, 0.73907836]),\n",
       " 'test_roc_auc_ovr': array([0.93437272, 0.93130635, 0.93474159, 0.93328825, 0.93418042])}"
      ]
     },
     "execution_count": 43,
     "metadata": {},
     "output_type": "execute_result"
    }
   ],
   "source": [
    "cv_results"
   ]
  },
  {
   "cell_type": "code",
   "execution_count": 44,
   "metadata": {},
   "outputs": [
    {
     "data": {
      "text/plain": [
       "0.7392452583245565"
      ]
     },
     "execution_count": 44,
     "metadata": {},
     "output_type": "execute_result"
    }
   ],
   "source": [
    "cv_results['test_accuracy'].mean()"
   ]
  },
  {
   "cell_type": "code",
   "execution_count": 45,
   "metadata": {},
   "outputs": [],
   "source": [
    "clf.fit(X=X_train_transform, y=y1_train_transform)\n",
    "\n",
    "y_pred_class = clf.predict(X=X_test_transform)\n",
    "y_pred_score = clf.predict_proba(X=X_test_transform)[:, 1]\n"
   ]
  },
  {
   "cell_type": "code",
   "execution_count": 46,
   "metadata": {},
   "outputs": [
    {
     "name": "stdout",
     "output_type": "stream",
     "text": [
      "The precision score on the test set: 0.63351\n",
      "The recall score on the test set: 0.63351\n",
      "Confusion Matrix:\n",
      " [[    0     0     5   190    24   189   267     2     0     0]\n",
      " [    0     0     5   104    44   189   221    20     0     0]\n",
      " [    0     0    61  3004   242   260   321   201     0     0]\n",
      " [   16     0    46  8446  1102   437   781   304     0     0]\n",
      " [    0     0    16   708  3181   403  1650   104     0     0]\n",
      " [    0     0     9  1427   222 16515   629    69     0     0]\n",
      " [  166     0    48  3702  9593   293 22349   831    18     0]\n",
      " [    0     0     6  1373   404    10    97  1606     0     0]\n",
      " [    0     0     0   125    92     0    14   147     0     0]\n",
      " [    0     0     0    23    13     6     1     1     0     0]]\n",
      "Classification Report:\n",
      "               precision    recall  f1-score   support\n",
      "\n",
      "           0       0.00      0.00      0.00       677\n",
      "           1       0.00      0.00      0.00       583\n",
      "           2       0.31      0.01      0.03      4089\n",
      "           3       0.44      0.76      0.56     11132\n",
      "           4       0.21      0.52      0.30      6062\n",
      "           5       0.90      0.88      0.89     18871\n",
      "           6       0.85      0.60      0.71     37000\n",
      "           7       0.49      0.46      0.47      3496\n",
      "           8       0.00      0.00      0.00       378\n",
      "           9       0.00      0.00      0.00        44\n",
      "\n",
      "    accuracy                           0.63     82332\n",
      "   macro avg       0.32      0.32      0.30     82332\n",
      "weighted avg       0.70      0.63      0.64     82332\n",
      "\n"
     ]
    },
    {
     "name": "stderr",
     "output_type": "stream",
     "text": [
      "/home/jokera/miniconda3/lib/python3.7/site-packages/sklearn/metrics/_classification.py:1272: UndefinedMetricWarning: Precision and F-score are ill-defined and being set to 0.0 in labels with no predicted samples. Use `zero_division` parameter to control this behavior.\n",
      "  _warn_prf(average, modifier, msg_start, len(result))\n"
     ]
    }
   ],
   "source": [
    "clf.fit(X=X_train_transform, y=y1_train_transform)\n",
    "\n",
    "\n",
    "y_pred_class = clf.predict(X=X_test_transform)\n",
    "y_pred_score = clf.predict_proba(X=X_test_transform)[:, 1]\n",
    "\n",
    "cm_ontest = confusion_matrix(y_true=y1_test_transform, y_pred=y_pred_class)\n",
    "\n",
    "precision_ontest = precision_score(y_true=y1_test_transform, y_pred=y_pred_class, average='micro')\n",
    "\n",
    "recall_ontest = recall_score(y_true=y1_test_transform, y_pred=y_pred_class, average='micro')\n",
    "\n",
    "cls_report_ontest = classification_report(y_true=y1_test_transform, y_pred=y_pred_class)\n",
    "\n",
    "\n",
    "print('The precision score on the test set: {:1.5f}'.format(precision_ontest))\n",
    "print('The recall score on the test set: {:1.5f}'.format(recall_ontest))\n",
    "print('Confusion Matrix:\\n', cm_ontest)\n",
    "\n",
    "print('Classification Report:\\n', cls_report_ontest)"
   ]
  },
  {
   "cell_type": "code",
   "execution_count": 60,
   "metadata": {},
   "outputs": [],
   "source": [
    "models = [('LogisticRegression', LogisticRegression(random_state=123, max_iter=5000, multi_class = \"ovr\")),\n",
    "#           ('DecisionTree', DecisionTreeClassifier(random_state=123)),\n",
    "          ('RandomForest', RandomForestClassifier(random_state=123)),\n",
    "          ('GradientBoosting', GradientBoostingClassifier(random_state=123))]\n",
    "          #('MultiLayerPerceptron', MLPClassifier(random_state=123, solver='adam', max_iter=8000))\n",
    "#             )]"
   ]
  },
  {
   "cell_type": "code",
   "execution_count": 61,
   "metadata": {},
   "outputs": [
    {
     "name": "stdout",
     "output_type": "stream",
     "text": [
      "LogisticRegression(C=1.0, class_weight=None, dual=False, fit_intercept=True,\n",
      "                   intercept_scaling=1, l1_ratio=None, max_iter=5000,\n",
      "                   multi_class='ovr', n_jobs=None, penalty='l2',\n",
      "                   random_state=123, solver='lbfgs', tol=0.0001, verbose=0,\n",
      "                   warm_start=False)\n",
      "RandomForestClassifier(bootstrap=True, ccp_alpha=0.0, class_weight=None,\n",
      "                       criterion='gini', max_depth=None, max_features='auto',\n",
      "                       max_leaf_nodes=None, max_samples=None,\n",
      "                       min_impurity_decrease=0.0, min_impurity_split=None,\n",
      "                       min_samples_leaf=1, min_samples_split=2,\n",
      "                       min_weight_fraction_leaf=0.0, n_estimators=100,\n",
      "                       n_jobs=None, oob_score=False, random_state=123,\n",
      "                       verbose=0, warm_start=False)\n",
      "GradientBoostingClassifier(ccp_alpha=0.0, criterion='friedman_mse', init=None,\n",
      "                           learning_rate=0.1, loss='deviance', max_depth=3,\n",
      "                           max_features=None, max_leaf_nodes=None,\n",
      "                           min_impurity_decrease=0.0, min_impurity_split=None,\n",
      "                           min_samples_leaf=1, min_samples_split=2,\n",
      "                           min_weight_fraction_leaf=0.0, n_estimators=100,\n",
      "                           n_iter_no_change=None, presort='deprecated',\n",
      "                           random_state=123, subsample=1.0, tol=0.0001,\n",
      "                           validation_fraction=0.1, verbose=0,\n",
      "                           warm_start=False)\n"
     ]
    }
   ],
   "source": [
    "for model_name, clf in models:\n",
    "    print(clf)"
   ]
  },
  {
   "cell_type": "code",
   "execution_count": 62,
   "metadata": {},
   "outputs": [],
   "source": [
    "model_names_list = []\n",
    "cv_fit_time_mean_list = []\n",
    "cv_accuracy_mean_list = []\n",
    "cv_precision_mean_list = []\n",
    "cv_recall_mean_list = []\n",
    "cv_f1_mean_list = []\n",
    "\n",
    "test_accuracy_list = []\n",
    "test_precision_list = []\n",
    "test_recall_list = []\n",
    "test_f1_list = []\n",
    "\n",
    "\n",
    "\n",
    "\n",
    "for model_name, clf in models:\n",
    "    \n",
    "    cv = StratifiedKFold(n_splits=5, shuffle=True, random_state=123)\n",
    "\n",
    "    scoring = ['accuracy', 'precision_micro', 'recall_micro', 'f1_micro']\n",
    "\n",
    "    cv_results = cross_validate(estimator=clf,\n",
    "                                X=X_train_transform,\n",
    "                                y=y1_train_transform,\n",
    "                                scoring=scoring,\n",
    "                                cv=cv,\n",
    "                                return_train_score=False)  \n",
    "\n",
    "\n",
    "    cv_fit_time_mean = cv_results['fit_time'].mean()\n",
    "    cv_accuracy_mean = cv_results['test_accuracy'].mean()\n",
    "    cv_precision_mean = cv_results['test_precision_micro'].mean()\n",
    "    cv_recall_mean = cv_results['test_recall_micro'].mean()\n",
    "    cv_f1_mean = cv_results['test_f1_micro'].mean()\n",
    "\n",
    "\n",
    "    model_names_list.append(model_name)\n",
    "    cv_fit_time_mean_list.append(cv_fit_time_mean)\n",
    "    cv_accuracy_mean_list.append(cv_accuracy_mean)\n",
    "    cv_precision_mean_list.append(cv_precision_mean)\n",
    "    cv_recall_mean_list.append(cv_recall_mean)\n",
    "    cv_f1_mean_list.append(cv_f1_mean)\n",
    "\n",
    "    clf.fit(X=X_train_transform, y=y1_train_transform)\n",
    "\n",
    "\n",
    "    y_pred_class = clf.predict(X=X_test_transform)  \n",
    "    \n",
    "    y_pred_score = clf.predict_proba(X=X_test_transform)[:, 1]\n",
    "\n",
    "    accuracy_ontest = accuracy_score(y_true=y1_test_transform, y_pred=y_pred_class)\n",
    "    \n",
    "    precision_ontest = precision_score(y_true=y1_test_transform, y_pred=y_pred_class, average = 'micro')\n",
    "    \n",
    "    recall_ontest = recall_score(y_true=y1_test_transform, y_pred=y_pred_class, average = 'micro')\n",
    "    \n",
    "    f1_ontest = f1_score(y_true=y1_test_transform, y_pred=y_pred_class, average = 'micro')\n",
    "    \n",
    "    test_accuracy_list.append(accuracy_ontest)\n",
    "    test_precision_list.append(precision_ontest)\n",
    "    test_recall_list.append(recall_ontest)\n",
    "    test_f1_list.append(f1_ontest)\n"
   ]
  },
  {
   "cell_type": "code",
   "execution_count": 63,
   "metadata": {},
   "outputs": [
    {
     "data": {
      "text/html": [
       "<div>\n",
       "<style scoped>\n",
       "    .dataframe tbody tr th:only-of-type {\n",
       "        vertical-align: middle;\n",
       "    }\n",
       "\n",
       "    .dataframe tbody tr th {\n",
       "        vertical-align: top;\n",
       "    }\n",
       "\n",
       "    .dataframe thead th {\n",
       "        text-align: right;\n",
       "    }\n",
       "</style>\n",
       "<table border=\"1\" class=\"dataframe\">\n",
       "  <thead>\n",
       "    <tr style=\"text-align: right;\">\n",
       "      <th></th>\n",
       "      <th>Model Name</th>\n",
       "      <th>CV Fit Time</th>\n",
       "      <th>CV Accuracy mean</th>\n",
       "      <th>CV Precision mean</th>\n",
       "      <th>CV Recall mean</th>\n",
       "      <th>CV F1 mean</th>\n",
       "      <th>Test Accuracy</th>\n",
       "      <th>Test Precision</th>\n",
       "      <th>Test Recall</th>\n",
       "      <th>Test F1</th>\n",
       "    </tr>\n",
       "  </thead>\n",
       "  <tbody>\n",
       "    <tr>\n",
       "      <th>1</th>\n",
       "      <td>RandomForest</td>\n",
       "      <td>61.037049</td>\n",
       "      <td>0.828141</td>\n",
       "      <td>0.828141</td>\n",
       "      <td>0.828141</td>\n",
       "      <td>0.828141</td>\n",
       "      <td>0.756255</td>\n",
       "      <td>0.756255</td>\n",
       "      <td>0.756255</td>\n",
       "      <td>0.756255</td>\n",
       "    </tr>\n",
       "    <tr>\n",
       "      <th>2</th>\n",
       "      <td>GradientBoosting</td>\n",
       "      <td>1586.471478</td>\n",
       "      <td>0.812531</td>\n",
       "      <td>0.812531</td>\n",
       "      <td>0.812531</td>\n",
       "      <td>0.812531</td>\n",
       "      <td>0.759753</td>\n",
       "      <td>0.759753</td>\n",
       "      <td>0.759753</td>\n",
       "      <td>0.759753</td>\n",
       "    </tr>\n",
       "    <tr>\n",
       "      <th>0</th>\n",
       "      <td>LogisticRegression</td>\n",
       "      <td>99.495591</td>\n",
       "      <td>0.739245</td>\n",
       "      <td>0.739245</td>\n",
       "      <td>0.739245</td>\n",
       "      <td>0.739245</td>\n",
       "      <td>0.633508</td>\n",
       "      <td>0.633508</td>\n",
       "      <td>0.633508</td>\n",
       "      <td>0.633508</td>\n",
       "    </tr>\n",
       "  </tbody>\n",
       "</table>\n",
       "</div>"
      ],
      "text/plain": [
       "           Model Name  CV Fit Time  CV Accuracy mean  CV Precision mean  \\\n",
       "1        RandomForest    61.037049          0.828141           0.828141   \n",
       "2    GradientBoosting  1586.471478          0.812531           0.812531   \n",
       "0  LogisticRegression    99.495591          0.739245           0.739245   \n",
       "\n",
       "   CV Recall mean  CV F1 mean  Test Accuracy  Test Precision  Test Recall  \\\n",
       "1        0.828141    0.828141       0.756255        0.756255     0.756255   \n",
       "2        0.812531    0.812531       0.759753        0.759753     0.759753   \n",
       "0        0.739245    0.739245       0.633508        0.633508     0.633508   \n",
       "\n",
       "    Test F1  \n",
       "1  0.756255  \n",
       "2  0.759753  \n",
       "0  0.633508  "
      ]
     },
     "execution_count": 63,
     "metadata": {},
     "output_type": "execute_result"
    }
   ],
   "source": [
    "results_dict1 = {'Model Name': model_names_list,\n",
    "                'CV Fit Time': cv_fit_time_mean_list,\n",
    "                'CV Accuracy mean': cv_accuracy_mean_list,\n",
    "                'CV Precision mean': cv_precision_mean_list,\n",
    "                'CV Recall mean': cv_recall_mean_list,\n",
    "                'CV F1 mean': cv_f1_mean_list,\n",
    "#                 'CV AUC mean': cv_roc_auc_mean_list,\n",
    "                'Test Accuracy': test_accuracy_list,\n",
    "                'Test Precision': test_precision_list,\n",
    "                'Test Recall': test_recall_list,\n",
    "                'Test F1': test_f1_list,\n",
    "#                 'Test AUC': test_roc_auc_list\n",
    "                }\n",
    "\n",
    "results1_df = pd.DataFrame(results_dict1)\n",
    "\n",
    "# results1_df.sort_values(by='Test F1', ascending=False)\n",
    "results1_df.sort_values(by='CV F1 mean', ascending=False)"
   ]
  },
  {
   "cell_type": "code",
   "execution_count": 52,
   "metadata": {},
   "outputs": [],
   "source": [
    "from sklearn.inspection import permutation_importance"
   ]
  },
  {
   "cell_type": "code",
   "execution_count": 53,
   "metadata": {},
   "outputs": [],
   "source": [
    "clf_name = models[2][0]\n",
    "clf = models[2][1]"
   ]
  },
  {
   "cell_type": "code",
   "execution_count": 54,
   "metadata": {},
   "outputs": [],
   "source": [
    "from sklearn.inspection import plot_partial_dependence\n",
    "import plotly.express as px\n",
    "import plotly.graph_objects as go\n",
    "\n",
    "\n",
    "from sklearn.pipeline import Pipeline\n",
    "def get_column_names_from_ColumnTransformer(column_transformer):    \n",
    "    col_name = []\n",
    "        \n",
    "    for transformer_in_columns in column_transformer.transformers_:\n",
    "        raw_col_name = transformer_in_columns[2]\n",
    "\n",
    "        if isinstance(transformer_in_columns[1], Pipeline): \n",
    "            transformer = transformer_in_columns[1].steps[-1][1]\n",
    "        else:\n",
    "            transformer = transformer_in_columns[1]\n",
    "        \n",
    "        try:\n",
    "            names = transformer.get_feature_names(input_features=raw_col_name)\n",
    "        \n",
    "        except AttributeError: # if no 'get_feature_names' function, use raw column name\n",
    "            \n",
    "            if transformer_in_columns[1] == \"passthrough\":\n",
    "                names = column_transformer._feature_names_in[raw_col_name]\n",
    "            else:\n",
    "                names = raw_col_name\n",
    "\n",
    "        if isinstance(names,np.ndarray): \n",
    "            col_name += names.tolist()\n",
    "        \n",
    "        elif isinstance(names,pd.Index): \n",
    "            col_name += names.tolist()\n",
    "        \n",
    "        elif isinstance(names,list):\n",
    "            col_name += names    \n",
    "\n",
    "        elif isinstance(names,str):\n",
    "            col_name.append(names)\n",
    "\n",
    "    return col_name\n",
    "\n",
    "new_cols = get_column_names_from_ColumnTransformer(col_trans)"
   ]
  },
  {
   "cell_type": "code",
   "execution_count": 55,
   "metadata": {},
   "outputs": [
    {
     "name": "stdout",
     "output_type": "stream",
     "text": [
      "dwin                 0.000000\n",
      "ct_ftp_cmd           0.000012\n",
      "is_ftp_login         0.000037\n",
      "is_sm_ips_ports      0.000056\n",
      "stcpb                0.000107\n",
      "ct_src_ltm           0.000155\n",
      "dtcpb                0.000165\n",
      "swin                 0.000177\n",
      "ct_dst_ltm           0.000231\n",
      "dpkts                0.000264\n",
      "rate                 0.000382\n",
      "ct_src_dport_ltm     0.000710\n",
      "ackdat               0.000792\n",
      "trans_depth          0.000817\n",
      "sjit                 0.000969\n",
      "dloss                0.001029\n",
      "ct_flw_http_mthd     0.001074\n",
      "dinpkt               0.001292\n",
      "dload                0.001382\n",
      "djit                 0.001415\n",
      "tcprtt               0.001643\n",
      "dur                  0.002044\n",
      "spkts                0.002212\n",
      "sinpkt               0.002458\n",
      "ct_state_ttl         0.004872\n",
      "sloss                0.005555\n",
      "sload                0.007251\n",
      "ct_srv_src           0.013922\n",
      "ct_dst_src_ltm       0.015130\n",
      "dbytes               0.015231\n",
      "synack               0.017760\n",
      "dttl                 0.019724\n",
      "dmean                0.025538\n",
      "ct_srv_dst           0.049926\n",
      "smean                0.059089\n",
      "sbytes               0.097034\n",
      "response_body_len    0.124906\n",
      "ct_dst_sport_ltm     0.252332\n",
      "sttl                 0.272308\n",
      "dtype: float64\n"
     ]
    },
    {
     "data": {
      "image/png": "[encoded data removed]",
      "text/plain": [
       "<Figure size 720x576 with 1 Axes>"
      ]
     },
     "metadata": {
      "needs_background": "light"
     },
     "output_type": "display_data"
    }
   ],
   "source": [
    "# Plot the feature importance\n",
    "feat_scores = pd.Series(clf.feature_importances_,\n",
    "                           index=X.columns)\n",
    "feat_scores = feat_scores.sort_values()\n",
    "ax = feat_scores.plot(kind='barh', \n",
    "                      figsize=(10,8),\n",
    "                      color='b')\n",
    "ax.set_title('Average Gini Importance')\n",
    "ax.set_xlabel('Average contribution to information gain');\n",
    "print(feat_scores)"
   ]
  },
  {
   "cell_type": "code",
   "execution_count": 56,
   "metadata": {},
   "outputs": [
    {
     "data": {
      "image/png": "[encoded data removed]",
      "text/plain": [
       "<Figure size 1440x720 with 4 Axes>"
      ]
     },
     "metadata": {
      "needs_background": "light"
     },
     "output_type": "display_data"
    }
   ],
   "source": [
    "clf_name = models[2][0] # the classifier name\n",
    "clf = models[2][1] # the classifier itself\n",
    "\n",
    "features = [6,3,31]\n",
    "plot_partial_dependence(estimator=clf, X=X_train_transform, \n",
    "                        features=features, feature_names=new_cols,\n",
    "                        target=1)\n",
    "\n",
    "fig = plt.gcf() # get current figure (gcf)\n",
    "fig.suptitle(\"Partial dependence of Attack types on top 3 features\\n\"\n",
    "              \"with {}\".format(clf_name))\n",
    "fig.set_size_inches(20, 10)\n",
    "fig.subplots_adjust(hspace=.4, wspace=.25, top=.9)\n"
   ]
  }
 ],
 "metadata": {
  "kernelspec": {
   "display_name": "Python 3",
   "language": "python",
   "name": "python3"
  },
  "language_info": {
   "codemirror_mode": {
    "name": "ipython",
    "version": 3
   },
   "file_extension": ".py",
   "mimetype": "text/x-python",
   "name": "python",
   "nbconvert_exporter": "python",
   "pygments_lexer": "ipython3",
   "version": "3.7.7"
  }
 },
 "nbformat": 4,
 "nbformat_minor": 4
}
