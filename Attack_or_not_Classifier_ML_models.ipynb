{
 "cells": [
  {
   "cell_type": "code",
   "execution_count": 1,
   "metadata": {},
   "outputs": [],
   "source": [
    "import pandas as pd\n",
    "import numpy as np\n",
    "import seaborn as sns\n",
    "import matplotlib.pyplot as plt\n",
    "plt.style.use('ggplot')\n",
    "%matplotlib inline\n",
    "\n",
    "from sklearn.compose import ColumnTransformer\n",
    "from sklearn.preprocessing import StandardScaler, LabelEncoder, OneHotEncoder\n",
    "\n",
    "from sklearn.model_selection import train_test_split\n",
    "from sklearn.model_selection import cross_val_score, cross_validate, StratifiedKFold\n",
    "from sklearn.metrics import precision_recall_curve, precision_score, recall_score, f1_score, accuracy_score\n",
    "from sklearn.metrics import roc_curve, auc, roc_auc_score, confusion_matrix, classification_report\n",
    "\n",
    "from sklearn.linear_model import LogisticRegression\n",
    "from sklearn.tree import DecisionTreeClassifier\n",
    "from sklearn.ensemble import RandomForestClassifier, GradientBoostingClassifier\n",
    "from sklearn.neural_network import MLPClassifier"
   ]
  },
  {
   "cell_type": "code",
   "execution_count": 2,
   "metadata": {},
   "outputs": [],
   "source": [
    "initial_data = pd.read_csv('UNSW_NB15_training-set-modified.csv')"
   ]
  },
  {
   "cell_type": "code",
   "execution_count": 3,
   "metadata": {},
   "outputs": [
    {
     "data": {
      "text/html": [
       "<div>\n",
       "<style scoped>\n",
       "    .dataframe tbody tr th:only-of-type {\n",
       "        vertical-align: middle;\n",
       "    }\n",
       "\n",
       "    .dataframe tbody tr th {\n",
       "        vertical-align: top;\n",
       "    }\n",
       "\n",
       "    .dataframe thead th {\n",
       "        text-align: right;\n",
       "    }\n",
       "</style>\n",
       "<table border=\"1\" class=\"dataframe\">\n",
       "  <thead>\n",
       "    <tr style=\"text-align: right;\">\n",
       "      <th></th>\n",
       "      <th>dur</th>\n",
       "      <th>spkts</th>\n",
       "      <th>dpkts</th>\n",
       "      <th>sbytes</th>\n",
       "      <th>dbytes</th>\n",
       "      <th>rate</th>\n",
       "      <th>sttl</th>\n",
       "      <th>dttl</th>\n",
       "      <th>sload</th>\n",
       "      <th>dload</th>\n",
       "      <th>...</th>\n",
       "      <th>ct_dst_sport_ltm</th>\n",
       "      <th>ct_dst_src_ltm</th>\n",
       "      <th>is_ftp_login</th>\n",
       "      <th>ct_ftp_cmd</th>\n",
       "      <th>ct_flw_http_mthd</th>\n",
       "      <th>ct_src_ltm</th>\n",
       "      <th>ct_srv_dst</th>\n",
       "      <th>is_sm_ips_ports</th>\n",
       "      <th>attack_cat</th>\n",
       "      <th>label</th>\n",
       "    </tr>\n",
       "  </thead>\n",
       "  <tbody>\n",
       "    <tr>\n",
       "      <th>0</th>\n",
       "      <td>0.121478</td>\n",
       "      <td>6</td>\n",
       "      <td>4</td>\n",
       "      <td>258</td>\n",
       "      <td>172</td>\n",
       "      <td>74.087490</td>\n",
       "      <td>252</td>\n",
       "      <td>254</td>\n",
       "      <td>14158.942380</td>\n",
       "      <td>8495.365234</td>\n",
       "      <td>...</td>\n",
       "      <td>1</td>\n",
       "      <td>1</td>\n",
       "      <td>0</td>\n",
       "      <td>0</td>\n",
       "      <td>0</td>\n",
       "      <td>1</td>\n",
       "      <td>1</td>\n",
       "      <td>0</td>\n",
       "      <td>Normal</td>\n",
       "      <td>0</td>\n",
       "    </tr>\n",
       "    <tr>\n",
       "      <th>1</th>\n",
       "      <td>0.649902</td>\n",
       "      <td>14</td>\n",
       "      <td>38</td>\n",
       "      <td>734</td>\n",
       "      <td>42014</td>\n",
       "      <td>78.473372</td>\n",
       "      <td>62</td>\n",
       "      <td>252</td>\n",
       "      <td>8395.112305</td>\n",
       "      <td>503571.312500</td>\n",
       "      <td>...</td>\n",
       "      <td>1</td>\n",
       "      <td>2</td>\n",
       "      <td>0</td>\n",
       "      <td>0</td>\n",
       "      <td>0</td>\n",
       "      <td>1</td>\n",
       "      <td>6</td>\n",
       "      <td>0</td>\n",
       "      <td>Normal</td>\n",
       "      <td>0</td>\n",
       "    </tr>\n",
       "    <tr>\n",
       "      <th>2</th>\n",
       "      <td>1.623129</td>\n",
       "      <td>8</td>\n",
       "      <td>16</td>\n",
       "      <td>364</td>\n",
       "      <td>13186</td>\n",
       "      <td>14.170161</td>\n",
       "      <td>62</td>\n",
       "      <td>252</td>\n",
       "      <td>1572.271851</td>\n",
       "      <td>60929.230470</td>\n",
       "      <td>...</td>\n",
       "      <td>1</td>\n",
       "      <td>3</td>\n",
       "      <td>0</td>\n",
       "      <td>0</td>\n",
       "      <td>0</td>\n",
       "      <td>2</td>\n",
       "      <td>6</td>\n",
       "      <td>0</td>\n",
       "      <td>Normal</td>\n",
       "      <td>0</td>\n",
       "    </tr>\n",
       "    <tr>\n",
       "      <th>3</th>\n",
       "      <td>1.681642</td>\n",
       "      <td>12</td>\n",
       "      <td>12</td>\n",
       "      <td>628</td>\n",
       "      <td>770</td>\n",
       "      <td>13.677108</td>\n",
       "      <td>62</td>\n",
       "      <td>252</td>\n",
       "      <td>2740.178955</td>\n",
       "      <td>3358.622070</td>\n",
       "      <td>...</td>\n",
       "      <td>1</td>\n",
       "      <td>3</td>\n",
       "      <td>1</td>\n",
       "      <td>1</td>\n",
       "      <td>0</td>\n",
       "      <td>2</td>\n",
       "      <td>1</td>\n",
       "      <td>0</td>\n",
       "      <td>Normal</td>\n",
       "      <td>0</td>\n",
       "    </tr>\n",
       "    <tr>\n",
       "      <th>4</th>\n",
       "      <td>0.449454</td>\n",
       "      <td>10</td>\n",
       "      <td>6</td>\n",
       "      <td>534</td>\n",
       "      <td>268</td>\n",
       "      <td>33.373826</td>\n",
       "      <td>254</td>\n",
       "      <td>252</td>\n",
       "      <td>8561.499023</td>\n",
       "      <td>3987.059814</td>\n",
       "      <td>...</td>\n",
       "      <td>1</td>\n",
       "      <td>40</td>\n",
       "      <td>0</td>\n",
       "      <td>0</td>\n",
       "      <td>0</td>\n",
       "      <td>2</td>\n",
       "      <td>39</td>\n",
       "      <td>0</td>\n",
       "      <td>Normal</td>\n",
       "      <td>0</td>\n",
       "    </tr>\n",
       "  </tbody>\n",
       "</table>\n",
       "<p>5 rows × 41 columns</p>\n",
       "</div>"
      ],
      "text/plain": [
       "        dur  spkts  dpkts  sbytes  dbytes       rate  sttl  dttl  \\\n",
       "0  0.121478      6      4     258     172  74.087490   252   254   \n",
       "1  0.649902     14     38     734   42014  78.473372    62   252   \n",
       "2  1.623129      8     16     364   13186  14.170161    62   252   \n",
       "3  1.681642     12     12     628     770  13.677108    62   252   \n",
       "4  0.449454     10      6     534     268  33.373826   254   252   \n",
       "\n",
       "          sload          dload  ...  ct_dst_sport_ltm  ct_dst_src_ltm  \\\n",
       "0  14158.942380    8495.365234  ...                 1               1   \n",
       "1   8395.112305  503571.312500  ...                 1               2   \n",
       "2   1572.271851   60929.230470  ...                 1               3   \n",
       "3   2740.178955    3358.622070  ...                 1               3   \n",
       "4   8561.499023    3987.059814  ...                 1              40   \n",
       "\n",
       "   is_ftp_login  ct_ftp_cmd  ct_flw_http_mthd  ct_src_ltm  ct_srv_dst  \\\n",
       "0             0           0                 0           1           1   \n",
       "1             0           0                 0           1           6   \n",
       "2             0           0                 0           2           6   \n",
       "3             1           1                 0           2           1   \n",
       "4             0           0                 0           2          39   \n",
       "\n",
       "   is_sm_ips_ports  attack_cat  label  \n",
       "0                0      Normal      0  \n",
       "1                0      Normal      0  \n",
       "2                0      Normal      0  \n",
       "3                0      Normal      0  \n",
       "4                0      Normal      0  \n",
       "\n",
       "[5 rows x 41 columns]"
      ]
     },
     "execution_count": 3,
     "metadata": {},
     "output_type": "execute_result"
    }
   ],
   "source": [
    "initial_data.head()"
   ]
  },
  {
   "cell_type": "code",
   "execution_count": 4,
   "metadata": {},
   "outputs": [
    {
     "name": "stdout",
     "output_type": "stream",
     "text": [
      "<class 'pandas.core.frame.DataFrame'>\n",
      "RangeIndex: 175341 entries, 0 to 175340\n",
      "Data columns (total 41 columns):\n",
      " #   Column             Non-Null Count   Dtype  \n",
      "---  ------             --------------   -----  \n",
      " 0   dur                175341 non-null  float64\n",
      " 1   spkts              175341 non-null  int64  \n",
      " 2   dpkts              175341 non-null  int64  \n",
      " 3   sbytes             175341 non-null  int64  \n",
      " 4   dbytes             175341 non-null  int64  \n",
      " 5   rate               175341 non-null  float64\n",
      " 6   sttl               175341 non-null  int64  \n",
      " 7   dttl               175341 non-null  int64  \n",
      " 8   sload              175341 non-null  float64\n",
      " 9   dload              175341 non-null  float64\n",
      " 10  sloss              175341 non-null  int64  \n",
      " 11  dloss              175341 non-null  int64  \n",
      " 12  sinpkt             175341 non-null  float64\n",
      " 13  dinpkt             175341 non-null  float64\n",
      " 14  sjit               175341 non-null  float64\n",
      " 15  djit               175341 non-null  float64\n",
      " 16  swin               175341 non-null  int64  \n",
      " 17  stcpb              175341 non-null  int64  \n",
      " 18  dtcpb              175341 non-null  int64  \n",
      " 19  dwin               175341 non-null  int64  \n",
      " 20  tcprtt             175341 non-null  float64\n",
      " 21  synack             175341 non-null  float64\n",
      " 22  ackdat             175341 non-null  float64\n",
      " 23  smean              175341 non-null  int64  \n",
      " 24  dmean              175341 non-null  int64  \n",
      " 25  trans_depth        175341 non-null  int64  \n",
      " 26  response_body_len  175341 non-null  int64  \n",
      " 27  ct_srv_src         175341 non-null  int64  \n",
      " 28  ct_state_ttl       175341 non-null  int64  \n",
      " 29  ct_dst_ltm         175341 non-null  int64  \n",
      " 30  ct_src_dport_ltm   175341 non-null  int64  \n",
      " 31  ct_dst_sport_ltm   175341 non-null  int64  \n",
      " 32  ct_dst_src_ltm     175341 non-null  int64  \n",
      " 33  is_ftp_login       175341 non-null  int64  \n",
      " 34  ct_ftp_cmd         175341 non-null  int64  \n",
      " 35  ct_flw_http_mthd   175341 non-null  int64  \n",
      " 36  ct_src_ltm         175341 non-null  int64  \n",
      " 37  ct_srv_dst         175341 non-null  int64  \n",
      " 38  is_sm_ips_ports    175341 non-null  int64  \n",
      " 39  attack_cat         175341 non-null  object \n",
      " 40  label              175341 non-null  int64  \n",
      "dtypes: float64(11), int64(29), object(1)\n",
      "memory usage: 54.8+ MB\n"
     ]
    }
   ],
   "source": [
    "initial_data.info()"
   ]
  },
  {
   "cell_type": "code",
   "execution_count": 5,
   "metadata": {},
   "outputs": [
    {
     "data": {
      "text/plain": [
       "dur                  0\n",
       "spkts                0\n",
       "dpkts                0\n",
       "sbytes               0\n",
       "dbytes               0\n",
       "rate                 0\n",
       "sttl                 0\n",
       "dttl                 0\n",
       "sload                0\n",
       "dload                0\n",
       "sloss                0\n",
       "dloss                0\n",
       "sinpkt               0\n",
       "dinpkt               0\n",
       "sjit                 0\n",
       "djit                 0\n",
       "swin                 0\n",
       "stcpb                0\n",
       "dtcpb                0\n",
       "dwin                 0\n",
       "tcprtt               0\n",
       "synack               0\n",
       "ackdat               0\n",
       "smean                0\n",
       "dmean                0\n",
       "trans_depth          0\n",
       "response_body_len    0\n",
       "ct_srv_src           0\n",
       "ct_state_ttl         0\n",
       "ct_dst_ltm           0\n",
       "ct_src_dport_ltm     0\n",
       "ct_dst_sport_ltm     0\n",
       "ct_dst_src_ltm       0\n",
       "is_ftp_login         0\n",
       "ct_ftp_cmd           0\n",
       "ct_flw_http_mthd     0\n",
       "ct_src_ltm           0\n",
       "ct_srv_dst           0\n",
       "is_sm_ips_ports      0\n",
       "attack_cat           0\n",
       "label                0\n",
       "dtype: int64"
      ]
     },
     "execution_count": 5,
     "metadata": {},
     "output_type": "execute_result"
    }
   ],
   "source": [
    "initial_data.isnull().sum()"
   ]
  },
  {
   "cell_type": "code",
   "execution_count": 6,
   "metadata": {},
   "outputs": [
    {
     "data": {
      "text/plain": [
       "(175341, 41)"
      ]
     },
     "execution_count": 6,
     "metadata": {},
     "output_type": "execute_result"
    }
   ],
   "source": [
    "data_to_use = initial_data.dropna()\n",
    "\n",
    "data_to_use.shape"
   ]
  },
  {
   "cell_type": "code",
   "execution_count": 7,
   "metadata": {},
   "outputs": [],
   "source": [
    "X = data_to_use.drop(axis=1, columns=['attack_cat']) # X is a dataframe\n",
    "X = X.drop(axis=1, columns=['label'])\n",
    "\n",
    "\n",
    "y1 = data_to_use['attack_cat'].values # y is an array\n",
    "y2 = data_to_use['label'].values"
   ]
  },
  {
   "cell_type": "code",
   "execution_count": 8,
   "metadata": {},
   "outputs": [],
   "source": [
    "def data_ratio(y2):\n",
    "    '''\n",
    "    Calculate Y2's ratio\n",
    "    '''\n",
    "    unique, count = np.unique(y2, return_counts=True)\n",
    "    ratio = round(count[0]/count[1], 1)\n",
    "    return f'{ratio}:1 ({count[0]}/{count[1]})'"
   ]
  },
  {
   "cell_type": "code",
   "execution_count": 9,
   "metadata": {},
   "outputs": [
    {
     "name": "stdout",
     "output_type": "stream",
     "text": [
      "The class ratio for the original data: 1.1:1 (2000/1746)\n"
     ]
    },
    {
     "data": {
      "image/png": "[encoded data removed]",
      "text/plain": [
       "<Figure size 936x360 with 1 Axes>"
      ]
     },
     "metadata": {
      "needs_background": "light"
     },
     "output_type": "display_data"
    },
    {
     "name": "stdout",
     "output_type": "stream",
     "text": [
      "The class ratio for the original data: 0.5:1 (56000/119341)\n"
     ]
    },
    {
     "data": {
      "image/png": "[encoded data removed]",
      "text/plain": [
       "<Figure size 432x288 with 1 Axes>"
      ]
     },
     "metadata": {
      "needs_background": "light"
     },
     "output_type": "display_data"
    }
   ],
   "source": [
    "print('The class ratio for the original data:', data_ratio(y1))\n",
    "plt.figure(figsize=(13,5))\n",
    "sns.countplot(y1,label=\"Sum\")\n",
    "plt.show()\n",
    "\n",
    "print('The class ratio for the original data:', data_ratio(y2))\n",
    "sns.countplot(y2,label=\"Sum\")\n",
    "plt.show()"
   ]
  },
  {
   "cell_type": "code",
   "execution_count": 10,
   "metadata": {},
   "outputs": [],
   "source": [
    "test_data = pd.read_csv('UNSW_NB15_testing-set-modified.csv')\n",
    "X_test = test_data.drop(axis=1, columns=['attack_cat']) # X_test is a dataframe\n",
    "X_test = X_test.drop(axis=1, columns=['label'])\n",
    "\n",
    "\n",
    "y1_test = test_data['attack_cat'].values # y is an array\n",
    "y2_test = test_data['label'].values"
   ]
  },
  {
   "cell_type": "code",
   "execution_count": 11,
   "metadata": {},
   "outputs": [],
   "source": [
    "X_train = X\n",
    "y1_train = y1\n",
    "y2_train = y2"
   ]
  },
  {
   "cell_type": "code",
   "execution_count": 12,
   "metadata": {},
   "outputs": [],
   "source": [
    "numerical_cols = X_train.select_dtypes(include=['int64', 'float64']).columns\n",
    "categorical_cols = X_train.select_dtypes(include=['object', 'bool']).columns"
   ]
  },
  {
   "cell_type": "code",
   "execution_count": 13,
   "metadata": {},
   "outputs": [
    {
     "data": {
      "text/plain": [
       "Index(['dur', 'spkts', 'dpkts', 'sbytes', 'dbytes', 'rate', 'sttl', 'dttl',\n",
       "       'sload', 'dload', 'sloss', 'dloss', 'sinpkt', 'dinpkt', 'sjit', 'djit',\n",
       "       'swin', 'stcpb', 'dtcpb', 'dwin', 'tcprtt', 'synack', 'ackdat', 'smean',\n",
       "       'dmean', 'trans_depth', 'response_body_len', 'ct_srv_src',\n",
       "       'ct_state_ttl', 'ct_dst_ltm', 'ct_src_dport_ltm', 'ct_dst_sport_ltm',\n",
       "       'ct_dst_src_ltm', 'is_ftp_login', 'ct_ftp_cmd', 'ct_flw_http_mthd',\n",
       "       'ct_src_ltm', 'ct_srv_dst', 'is_sm_ips_ports'],\n",
       "      dtype='object')"
      ]
     },
     "execution_count": 13,
     "metadata": {},
     "output_type": "execute_result"
    }
   ],
   "source": [
    "numerical_cols"
   ]
  },
  {
   "cell_type": "code",
   "execution_count": 14,
   "metadata": {},
   "outputs": [
    {
     "data": {
      "text/plain": [
       "Index([], dtype='object')"
      ]
     },
     "execution_count": 14,
     "metadata": {},
     "output_type": "execute_result"
    }
   ],
   "source": [
    "categorical_cols"
   ]
  },
  {
   "cell_type": "code",
   "execution_count": 15,
   "metadata": {},
   "outputs": [
    {
     "data": {
      "text/plain": [
       "ColumnTransformer(n_jobs=None, remainder='drop', sparse_threshold=0.3,\n",
       "                  transformer_weights=None,\n",
       "                  transformers=[('ohe',\n",
       "                                 OneHotEncoder(categories='auto', drop='first',\n",
       "                                               dtype=<class 'numpy.float64'>,\n",
       "                                               handle_unknown='error',\n",
       "                                               sparse=True),\n",
       "                                 Index([], dtype='object')),\n",
       "                                ('scale',\n",
       "                                 StandardScaler(copy=True, with_mean=True,\n",
       "                                                with_std=True),\n",
       "                                 Index(['dur', 'spkts', 'dpkts', 'sbytes...\n",
       "       'sload', 'dload', 'sloss', 'dloss', 'sinpkt', 'dinpkt', 'sjit', 'djit',\n",
       "       'swin', 'stcpb', 'dtcpb', 'dwin', 'tcprtt', 'synack', 'ackdat', 'smean',\n",
       "       'dmean', 'trans_depth', 'response_body_len', 'ct_srv_src',\n",
       "       'ct_state_ttl', 'ct_dst_ltm', 'ct_src_dport_ltm', 'ct_dst_sport_ltm',\n",
       "       'ct_dst_src_ltm', 'is_ftp_login', 'ct_ftp_cmd', 'ct_flw_http_mthd',\n",
       "       'ct_src_ltm', 'ct_srv_dst', 'is_sm_ips_ports'],\n",
       "      dtype='object'))],\n",
       "                  verbose=False)"
      ]
     },
     "execution_count": 15,
     "metadata": {},
     "output_type": "execute_result"
    }
   ],
   "source": [
    "t = [('ohe', OneHotEncoder(drop='first'), categorical_cols),\n",
    "    ('scale', StandardScaler(), numerical_cols)]\n",
    "\n",
    "col_trans = ColumnTransformer(transformers=t)\n",
    "\n",
    "col_trans.fit(X_train)"
   ]
  },
  {
   "cell_type": "code",
   "execution_count": 16,
   "metadata": {},
   "outputs": [],
   "source": [
    "X_train_transform = col_trans.transform(X_train)"
   ]
  },
  {
   "cell_type": "code",
   "execution_count": 17,
   "metadata": {},
   "outputs": [],
   "source": [
    "X_test_transform = col_trans.transform(X_test)"
   ]
  },
  {
   "cell_type": "code",
   "execution_count": 18,
   "metadata": {},
   "outputs": [
    {
     "data": {
      "text/plain": [
       "(175341, 39)"
      ]
     },
     "execution_count": 18,
     "metadata": {},
     "output_type": "execute_result"
    }
   ],
   "source": [
    "X_train_transform.shape"
   ]
  },
  {
   "cell_type": "code",
   "execution_count": 19,
   "metadata": {},
   "outputs": [
    {
     "data": {
      "text/plain": [
       "(82332, 39)"
      ]
     },
     "execution_count": 19,
     "metadata": {},
     "output_type": "execute_result"
    }
   ],
   "source": [
    "X_test_transform.shape"
   ]
  },
  {
   "cell_type": "code",
   "execution_count": 20,
   "metadata": {},
   "outputs": [
    {
     "data": {
      "text/plain": [
       "array(['Normal', 'Backdoor', 'Analysis', 'Fuzzers', 'Shellcode',\n",
       "       'Reconnaissance', 'Exploits', 'DoS', 'Worms', 'Generic'],\n",
       "      dtype=object)"
      ]
     },
     "execution_count": 20,
     "metadata": {},
     "output_type": "execute_result"
    }
   ],
   "source": [
    "pd.unique(y1)"
   ]
  },
  {
   "cell_type": "code",
   "execution_count": 21,
   "metadata": {},
   "outputs": [
    {
     "data": {
      "text/plain": [
       "array([0, 1])"
      ]
     },
     "execution_count": 21,
     "metadata": {},
     "output_type": "execute_result"
    }
   ],
   "source": [
    "pd.unique(y2)"
   ]
  },
  {
   "cell_type": "code",
   "execution_count": 22,
   "metadata": {},
   "outputs": [
    {
     "data": {
      "text/plain": [
       "LabelEncoder()"
      ]
     },
     "execution_count": 22,
     "metadata": {},
     "output_type": "execute_result"
    }
   ],
   "source": [
    "target_trans = LabelEncoder()\n",
    "target_trans.fit(y1_train)"
   ]
  },
  {
   "cell_type": "code",
   "execution_count": 23,
   "metadata": {},
   "outputs": [],
   "source": [
    "y1_train_transform = target_trans.transform(y1_train)\n",
    "y1_test_transform = target_trans.transform(y1_test)"
   ]
  },
  {
   "cell_type": "code",
   "execution_count": 24,
   "metadata": {},
   "outputs": [
    {
     "data": {
      "text/plain": [
       "array([6, 6, 6, ..., 5, 5, 5])"
      ]
     },
     "execution_count": 24,
     "metadata": {},
     "output_type": "execute_result"
    }
   ],
   "source": [
    "y1_train_transform"
   ]
  },
  {
   "cell_type": "code",
   "execution_count": 25,
   "metadata": {},
   "outputs": [],
   "source": [
    "target_trans = LabelEncoder()\n",
    "target_trans.fit(y2_train)\n",
    "y2_train_transform = target_trans.transform(y2_train)\n",
    "y2_test_transform = target_trans.transform(y2_test)"
   ]
  },
  {
   "cell_type": "code",
   "execution_count": 26,
   "metadata": {},
   "outputs": [
    {
     "data": {
      "text/plain": [
       "array([0, 0, 0, ..., 1, 1, 1])"
      ]
     },
     "execution_count": 26,
     "metadata": {},
     "output_type": "execute_result"
    }
   ],
   "source": [
    "y2_train_transform"
   ]
  },
  {
   "cell_type": "code",
   "execution_count": 27,
   "metadata": {},
   "outputs": [],
   "source": [
    "clf = LogisticRegression(solver='lbfgs', random_state=123, max_iter = 4000)\n",
    "cv = StratifiedKFold(n_splits=5, shuffle=True, random_state=123)\n",
    "scoring = ['accuracy', 'precision', 'recall', 'f1', 'roc_auc']\n",
    "\n",
    "cv_results = cross_validate(estimator=clf,\n",
    "                            X=X_train_transform,\n",
    "                            y=y2_train_transform,\n",
    "                            scoring=scoring,\n",
    "                            cv=cv,\n",
    "                            return_train_score=False)"
   ]
  },
  {
   "cell_type": "code",
   "execution_count": 28,
   "metadata": {},
   "outputs": [
    {
     "data": {
      "text/plain": [
       "{'fit_time': array([10.5022018 , 11.32081628, 13.54580331, 14.83567381, 19.40747166]),\n",
       " 'score_time': array([0.09136558, 0.11129665, 0.13609791, 0.15615487, 0.19053745]),\n",
       " 'test_accuracy': array([0.92797057, 0.92708452, 0.92728413, 0.9272271 , 0.92748375]),\n",
       " 'test_precision': array([0.91380046, 0.91187043, 0.9125    , 0.91281277, 0.91386873]),\n",
       " 'test_recall': array([0.98730571, 0.9883945 , 0.98789174, 0.98738897, 0.98642534]),\n",
       " 'test_f1': array([0.94913206, 0.94859165, 0.94870041, 0.94863744, 0.94876186]),\n",
       " 'test_roc_auc': array([0.96948525, 0.96945206, 0.96891897, 0.96798411, 0.96939284])}"
      ]
     },
     "execution_count": 28,
     "metadata": {},
     "output_type": "execute_result"
    }
   ],
   "source": [
    "cv_results"
   ]
  },
  {
   "cell_type": "code",
   "execution_count": 29,
   "metadata": {},
   "outputs": [
    {
     "data": {
      "text/plain": [
       "0.9274100149961656"
      ]
     },
     "execution_count": 29,
     "metadata": {},
     "output_type": "execute_result"
    }
   ],
   "source": [
    "cv_results['test_accuracy'].mean()"
   ]
  },
  {
   "cell_type": "code",
   "execution_count": 30,
   "metadata": {},
   "outputs": [
    {
     "name": "stdout",
     "output_type": "stream",
     "text": [
      "The model scores 0.88659 ROC AUC on the test set.\n",
      "The precision score on the test set: 0.72832\n",
      "The recall score on the test set: 0.94174\n",
      "Confusion Matrix:\n",
      " [[21075 15925]\n",
      " [ 2641 42691]]\n",
      "Classification Report:\n",
      "               precision    recall  f1-score   support\n",
      "\n",
      "           0       0.89      0.57      0.69     37000\n",
      "           1       0.73      0.94      0.82     45332\n",
      "\n",
      "    accuracy                           0.77     82332\n",
      "   macro avg       0.81      0.76      0.76     82332\n",
      "weighted avg       0.80      0.77      0.76     82332\n",
      "\n"
     ]
    }
   ],
   "source": [
    "clf.fit(X=X_train_transform, y=y2_train_transform)\n",
    "\n",
    "\n",
    "y_pred_class = clf.predict(X=X_test_transform)\n",
    "y_pred_score = clf.predict_proba(X=X_test_transform)[:, 1]\n",
    "\n",
    "\n",
    "auc_ontest = roc_auc_score(y_true=y2_test_transform, y_score=y_pred_score)\n",
    "cm_ontest = confusion_matrix(y_true=y2_test_transform, y_pred=y_pred_class)\n",
    "precision_ontest = precision_score(y_true=y2_test_transform, y_pred=y_pred_class)\n",
    "recall_ontest = recall_score(y_true=y2_test_transform, y_pred=y_pred_class)\n",
    "cls_report_ontest = classification_report(y_true=y2_test_transform, y_pred=y_pred_class)\n",
    "\n",
    "print('The model scores {:1.5f} ROC AUC on the test set.'.format(auc_ontest))\n",
    "print('The precision score on the test set: {:1.5f}'.format(precision_ontest))\n",
    "print('The recall score on the test set: {:1.5f}'.format(recall_ontest))\n",
    "print('Confusion Matrix:\\n', cm_ontest)\n",
    "\n",
    "print('Classification Report:\\n', cls_report_ontest)"
   ]
  },
  {
   "cell_type": "code",
   "execution_count": 31,
   "metadata": {},
   "outputs": [],
   "source": [
    "models = [('LogisticRegression', LogisticRegression(random_state=123, max_iter=5000)),\n",
    "          ('DecisionTree', DecisionTreeClassifier(random_state=123)),\n",
    "          ('RandomForest', RandomForestClassifier(random_state=123)),\n",
    "#           ('GradientBoosting', GradientBoostingClassifier(random_state=123))\n",
    "#           ('MultiLayerPerceptron', MLPClassifier(random_state=123, solver='adam', max_iter=8000))\n",
    "         ]"
   ]
  },
  {
   "cell_type": "code",
   "execution_count": 32,
   "metadata": {},
   "outputs": [],
   "source": [
    "model_names_list = []\n",
    "cv_fit_time_mean_list = []\n",
    "cv_accuracy_mean_list = []\n",
    "cv_precision_mean_list = []\n",
    "cv_recall_mean_list = []\n",
    "cv_f1_mean_list = []\n",
    "cv_roc_auc_mean_list = []\n",
    "\n",
    "test_accuracy_list = []\n",
    "test_precision_list = []\n",
    "test_recall_list = []\n",
    "test_f1_list = []\n",
    "test_roc_auc_list = []\n",
    "\n",
    "test_roc_curve_df = pd.DataFrame()\n",
    "\n",
    "for model_name, clf in models:\n",
    "    cv = StratifiedKFold(n_splits=5, shuffle=True, random_state=123)\n",
    "    scoring = ['accuracy', 'precision', 'recall', 'f1', 'roc_auc']\n",
    "    cv_results = cross_validate(estimator=clf,\n",
    "                                X=X_train_transform,\n",
    "                                y=y2_train_transform,\n",
    "                                scoring=scoring,\n",
    "                                cv=cv,\n",
    "                                return_train_score=False)  # prevent to show the train scores on cv splits.\n",
    "\n",
    "    cv_fit_time_mean = cv_results['fit_time'].mean()\n",
    "    cv_accuracy_mean = cv_results['test_accuracy'].mean()\n",
    "    cv_precision_mean = cv_results['test_precision'].mean()\n",
    "    cv_recall_mean = cv_results['test_recall'].mean()\n",
    "    cv_f1_mean = cv_results['test_f1'].mean()\n",
    "    cv_roc_auc_mean = cv_results['test_roc_auc'].mean()\n",
    "\n",
    "    model_names_list.append(model_name)\n",
    "    cv_fit_time_mean_list.append(cv_fit_time_mean)\n",
    "    cv_accuracy_mean_list.append(cv_accuracy_mean)\n",
    "    cv_precision_mean_list.append(cv_precision_mean)\n",
    "    cv_recall_mean_list.append(cv_recall_mean)\n",
    "    cv_f1_mean_list.append(cv_f1_mean)\n",
    "    cv_roc_auc_mean_list.append(cv_roc_auc_mean)\n",
    "\n",
    "    clf.fit(X=X_train_transform, y=y2_train_transform)\n",
    "\n",
    "    y_pred_class = clf.predict(X=X_test_transform)  \n",
    "    \n",
    "    y_pred_score = clf.predict_proba(X=X_test_transform)[:, 1]\n",
    "\n",
    "    accuracy_ontest = accuracy_score(y_true=y2_test_transform, y_pred=y_pred_class)\n",
    "    \n",
    "    auc_ontest = roc_auc_score(y_true=y2_test_transform, y_score=y_pred_score)\n",
    "    \n",
    "    precision_ontest = precision_score(y_true=y2_test_transform, y_pred=y_pred_class)\n",
    "    \n",
    "    recall_ontest = recall_score(y_true=y2_test_transform, y_pred=y_pred_class)\n",
    "    \n",
    "    f1_ontest = f1_score(y_true=y2_test_transform, y_pred=y_pred_class)\n",
    "    \n",
    "    fpr, tpr, threshold_roc = roc_curve(y_true=y2_test_transform, y_score=y_pred_score)\n",
    "    \n",
    "    roc_df = pd.DataFrame(list(zip(fpr, tpr, threshold_roc)),\n",
    "                          columns=['False Positive Rate', 'True Positive Rate', 'Threshold'])\n",
    "    \n",
    "    roc_df['Model'] = '{} (AUC = {:.3f})'.format(model_name, auc_ontest)\n",
    "\n",
    "\n",
    "    test_accuracy_list.append(accuracy_ontest)\n",
    "    test_roc_auc_list.append(auc_ontest)\n",
    "    test_precision_list.append(precision_ontest)\n",
    "    test_recall_list.append(recall_ontest)\n",
    "    test_f1_list.append(f1_ontest)\n",
    "    \n",
    "    test_roc_curve_df = pd.concat([test_roc_curve_df, roc_df],\n",
    "                                 ignore_index=True)"
   ]
  },
  {
   "cell_type": "code",
   "execution_count": 33,
   "metadata": {},
   "outputs": [
    {
     "data": {
      "text/html": [
       "<div>\n",
       "<style scoped>\n",
       "    .dataframe tbody tr th:only-of-type {\n",
       "        vertical-align: middle;\n",
       "    }\n",
       "\n",
       "    .dataframe tbody tr th {\n",
       "        vertical-align: top;\n",
       "    }\n",
       "\n",
       "    .dataframe thead th {\n",
       "        text-align: right;\n",
       "    }\n",
       "</style>\n",
       "<table border=\"1\" class=\"dataframe\">\n",
       "  <thead>\n",
       "    <tr style=\"text-align: right;\">\n",
       "      <th></th>\n",
       "      <th>Model Name</th>\n",
       "      <th>CV Fit Time</th>\n",
       "      <th>CV Accuracy mean</th>\n",
       "      <th>CV Precision mean</th>\n",
       "      <th>CV Recall mean</th>\n",
       "      <th>CV F1 mean</th>\n",
       "      <th>CV AUC mean</th>\n",
       "      <th>Test Accuracy</th>\n",
       "      <th>Test Precision</th>\n",
       "      <th>Test Recall</th>\n",
       "      <th>Test F1</th>\n",
       "      <th>Test AUC</th>\n",
       "    </tr>\n",
       "  </thead>\n",
       "  <tbody>\n",
       "    <tr>\n",
       "      <th>2</th>\n",
       "      <td>RandomForest</td>\n",
       "      <td>91.839413</td>\n",
       "      <td>0.959736</td>\n",
       "      <td>0.963049</td>\n",
       "      <td>0.978381</td>\n",
       "      <td>0.970654</td>\n",
       "      <td>0.993565</td>\n",
       "      <td>0.870731</td>\n",
       "      <td>0.818020</td>\n",
       "      <td>0.984161</td>\n",
       "      <td>0.893433</td>\n",
       "      <td>0.977035</td>\n",
       "    </tr>\n",
       "    <tr>\n",
       "      <th>1</th>\n",
       "      <td>DecisionTree</td>\n",
       "      <td>8.306075</td>\n",
       "      <td>0.948552</td>\n",
       "      <td>0.962916</td>\n",
       "      <td>0.961438</td>\n",
       "      <td>0.962176</td>\n",
       "      <td>0.942744</td>\n",
       "      <td>0.862605</td>\n",
       "      <td>0.823384</td>\n",
       "      <td>0.955396</td>\n",
       "      <td>0.884491</td>\n",
       "      <td>0.854642</td>\n",
       "    </tr>\n",
       "    <tr>\n",
       "      <th>0</th>\n",
       "      <td>LogisticRegression</td>\n",
       "      <td>17.177451</td>\n",
       "      <td>0.927410</td>\n",
       "      <td>0.912970</td>\n",
       "      <td>0.987481</td>\n",
       "      <td>0.948765</td>\n",
       "      <td>0.969047</td>\n",
       "      <td>0.774498</td>\n",
       "      <td>0.728317</td>\n",
       "      <td>0.941741</td>\n",
       "      <td>0.821391</td>\n",
       "      <td>0.886591</td>\n",
       "    </tr>\n",
       "  </tbody>\n",
       "</table>\n",
       "</div>"
      ],
      "text/plain": [
       "           Model Name  CV Fit Time  CV Accuracy mean  CV Precision mean  \\\n",
       "2        RandomForest    91.839413          0.959736           0.963049   \n",
       "1        DecisionTree     8.306075          0.948552           0.962916   \n",
       "0  LogisticRegression    17.177451          0.927410           0.912970   \n",
       "\n",
       "   CV Recall mean  CV F1 mean  CV AUC mean  Test Accuracy  Test Precision  \\\n",
       "2        0.978381    0.970654     0.993565       0.870731        0.818020   \n",
       "1        0.961438    0.962176     0.942744       0.862605        0.823384   \n",
       "0        0.987481    0.948765     0.969047       0.774498        0.728317   \n",
       "\n",
       "   Test Recall   Test F1  Test AUC  \n",
       "2     0.984161  0.893433  0.977035  \n",
       "1     0.955396  0.884491  0.854642  \n",
       "0     0.941741  0.821391  0.886591  "
      ]
     },
     "execution_count": 33,
     "metadata": {},
     "output_type": "execute_result"
    }
   ],
   "source": [
    "results_dict = {'Model Name': model_names_list,\n",
    "                'CV Fit Time': cv_fit_time_mean_list,\n",
    "                'CV Accuracy mean': cv_accuracy_mean_list,\n",
    "                'CV Precision mean': cv_precision_mean_list,\n",
    "                'CV Recall mean': cv_recall_mean_list,\n",
    "                'CV F1 mean': cv_f1_mean_list,\n",
    "                'CV AUC mean': cv_roc_auc_mean_list,\n",
    "                'Test Accuracy': test_accuracy_list,\n",
    "                'Test Precision': test_precision_list,\n",
    "                'Test Recall': test_recall_list,\n",
    "                'Test F1': test_f1_list,\n",
    "                'Test AUC': test_roc_auc_list\n",
    "                }\n",
    "\n",
    "results_df = pd.DataFrame(results_dict)\n",
    "\n",
    "results_df.sort_values(by='Test F1', ascending=False)"
   ]
  },
  {
   "cell_type": "code",
   "execution_count": 34,
   "metadata": {},
   "outputs": [
    {
     "data": {
      "text/html": [
       "<div>\n",
       "<style scoped>\n",
       "    .dataframe tbody tr th:only-of-type {\n",
       "        vertical-align: middle;\n",
       "    }\n",
       "\n",
       "    .dataframe tbody tr th {\n",
       "        vertical-align: top;\n",
       "    }\n",
       "\n",
       "    .dataframe thead th {\n",
       "        text-align: right;\n",
       "    }\n",
       "</style>\n",
       "<table border=\"1\" class=\"dataframe\">\n",
       "  <thead>\n",
       "    <tr style=\"text-align: right;\">\n",
       "      <th></th>\n",
       "      <th>False Positive Rate</th>\n",
       "      <th>True Positive Rate</th>\n",
       "      <th>Threshold</th>\n",
       "      <th>Model</th>\n",
       "    </tr>\n",
       "  </thead>\n",
       "  <tbody>\n",
       "    <tr>\n",
       "      <th>0</th>\n",
       "      <td>0.0</td>\n",
       "      <td>0.000000</td>\n",
       "      <td>2.0</td>\n",
       "      <td>LogisticRegression (AUC = 0.887)</td>\n",
       "    </tr>\n",
       "    <tr>\n",
       "      <th>1</th>\n",
       "      <td>0.0</td>\n",
       "      <td>0.000949</td>\n",
       "      <td>1.0</td>\n",
       "      <td>LogisticRegression (AUC = 0.887)</td>\n",
       "    </tr>\n",
       "    <tr>\n",
       "      <th>2</th>\n",
       "      <td>0.0</td>\n",
       "      <td>0.001213</td>\n",
       "      <td>1.0</td>\n",
       "      <td>LogisticRegression (AUC = 0.887)</td>\n",
       "    </tr>\n",
       "    <tr>\n",
       "      <th>3</th>\n",
       "      <td>0.0</td>\n",
       "      <td>0.001257</td>\n",
       "      <td>1.0</td>\n",
       "      <td>LogisticRegression (AUC = 0.887)</td>\n",
       "    </tr>\n",
       "    <tr>\n",
       "      <th>4</th>\n",
       "      <td>0.0</td>\n",
       "      <td>0.001324</td>\n",
       "      <td>1.0</td>\n",
       "      <td>LogisticRegression (AUC = 0.887)</td>\n",
       "    </tr>\n",
       "  </tbody>\n",
       "</table>\n",
       "</div>"
      ],
      "text/plain": [
       "   False Positive Rate  True Positive Rate  Threshold  \\\n",
       "0                  0.0            0.000000        2.0   \n",
       "1                  0.0            0.000949        1.0   \n",
       "2                  0.0            0.001213        1.0   \n",
       "3                  0.0            0.001257        1.0   \n",
       "4                  0.0            0.001324        1.0   \n",
       "\n",
       "                              Model  \n",
       "0  LogisticRegression (AUC = 0.887)  \n",
       "1  LogisticRegression (AUC = 0.887)  \n",
       "2  LogisticRegression (AUC = 0.887)  \n",
       "3  LogisticRegression (AUC = 0.887)  \n",
       "4  LogisticRegression (AUC = 0.887)  "
      ]
     },
     "execution_count": 34,
     "metadata": {},
     "output_type": "execute_result"
    }
   ],
   "source": [
    "test_roc_curve_df.head()"
   ]
  },
  {
   "cell_type": "code",
   "execution_count": 35,
   "metadata": {},
   "outputs": [],
   "source": [
    "import plotly.express as px\n",
    "import plotly.graph_objects as go"
   ]
  },
  {
   "cell_type": "code",
   "execution_count": 36,
   "metadata": {},
   "outputs": [],
   "source": [
    "from sklearn.inspection import plot_partial_dependence"
   ]
  },
  {
   "cell_type": "code",
   "execution_count": 37,
   "metadata": {},
   "outputs": [],
   "source": [
    "from sklearn.pipeline import Pipeline\n",
    "def get_column_names_from_ColumnTransformer(column_transformer):    \n",
    "    col_name = []\n",
    "        \n",
    "    for transformer_in_columns in column_transformer.transformers_:\n",
    "        raw_col_name = transformer_in_columns[2]\n",
    "\n",
    "        if isinstance(transformer_in_columns[1], Pipeline): \n",
    "            transformer = transformer_in_columns[1].steps[-1][1]\n",
    "        else:\n",
    "            transformer = transformer_in_columns[1]\n",
    "        \n",
    "        try:\n",
    "            names = transformer.get_feature_names(input_features=raw_col_name)\n",
    "        \n",
    "        except AttributeError: # if no 'get_feature_names' function, use raw column name\n",
    "            \n",
    "            if transformer_in_columns[1] == \"passthrough\":\n",
    "                names = column_transformer._feature_names_in[raw_col_name]\n",
    "            else:\n",
    "                names = raw_col_name\n",
    "\n",
    "        if isinstance(names,np.ndarray): \n",
    "            col_name += names.tolist()\n",
    "        \n",
    "        elif isinstance(names,pd.Index): \n",
    "            col_name += names.tolist()\n",
    "        \n",
    "        elif isinstance(names,list):\n",
    "            col_name += names    \n",
    "\n",
    "        elif isinstance(names,str):\n",
    "            col_name.append(names)\n",
    "\n",
    "    return col_name"
   ]
  },
  {
   "cell_type": "code",
   "execution_count": 38,
   "metadata": {},
   "outputs": [
    {
     "data": {
      "text/plain": [
       "['dur',\n",
       " 'spkts',\n",
       " 'dpkts',\n",
       " 'sbytes',\n",
       " 'dbytes',\n",
       " 'rate',\n",
       " 'sttl',\n",
       " 'dttl',\n",
       " 'sload',\n",
       " 'dload',\n",
       " 'sloss',\n",
       " 'dloss',\n",
       " 'sinpkt',\n",
       " 'dinpkt',\n",
       " 'sjit',\n",
       " 'djit',\n",
       " 'swin',\n",
       " 'stcpb',\n",
       " 'dtcpb',\n",
       " 'dwin',\n",
       " 'tcprtt',\n",
       " 'synack',\n",
       " 'ackdat',\n",
       " 'smean',\n",
       " 'dmean',\n",
       " 'trans_depth',\n",
       " 'response_body_len',\n",
       " 'ct_srv_src',\n",
       " 'ct_state_ttl',\n",
       " 'ct_dst_ltm',\n",
       " 'ct_src_dport_ltm',\n",
       " 'ct_dst_sport_ltm',\n",
       " 'ct_dst_src_ltm',\n",
       " 'is_ftp_login',\n",
       " 'ct_ftp_cmd',\n",
       " 'ct_flw_http_mthd',\n",
       " 'ct_src_ltm',\n",
       " 'ct_srv_dst',\n",
       " 'is_sm_ips_ports']"
      ]
     },
     "execution_count": 38,
     "metadata": {},
     "output_type": "execute_result"
    }
   ],
   "source": [
    "new_cols = get_column_names_from_ColumnTransformer(col_trans)\n",
    "\n",
    "new_cols"
   ]
  },
  {
   "cell_type": "code",
   "execution_count": 39,
   "metadata": {},
   "outputs": [
    {
     "data": {
      "text/plain": [
       "('RandomForest',\n",
       " RandomForestClassifier(bootstrap=True, ccp_alpha=0.0, class_weight=None,\n",
       "                        criterion='gini', max_depth=None, max_features='auto',\n",
       "                        max_leaf_nodes=None, max_samples=None,\n",
       "                        min_impurity_decrease=0.0, min_impurity_split=None,\n",
       "                        min_samples_leaf=1, min_samples_split=2,\n",
       "                        min_weight_fraction_leaf=0.0, n_estimators=100,\n",
       "                        n_jobs=None, oob_score=False, random_state=123,\n",
       "                        verbose=0, warm_start=False))"
      ]
     },
     "execution_count": 39,
     "metadata": {},
     "output_type": "execute_result"
    }
   ],
   "source": [
    "models[2]"
   ]
  },
  {
   "cell_type": "code",
   "execution_count": 40,
   "metadata": {},
   "outputs": [],
   "source": [
    "from sklearn.inspection import permutation_importance"
   ]
  },
  {
   "cell_type": "code",
   "execution_count": 41,
   "metadata": {},
   "outputs": [],
   "source": [
    "clf_name = models[2][0]\n",
    "clf = models[2][1]"
   ]
  },
  {
   "cell_type": "code",
   "execution_count": 42,
   "metadata": {},
   "outputs": [
    {
     "name": "stdout",
     "output_type": "stream",
     "text": [
      "ct_ftp_cmd           0.000105\n",
      "is_ftp_login         0.000126\n",
      "dwin                 0.000343\n",
      "response_body_len    0.001616\n",
      "trans_depth          0.001864\n",
      "ct_flw_http_mthd     0.002009\n",
      "swin                 0.004106\n",
      "is_sm_ips_ports      0.005445\n",
      "ct_src_dport_ltm     0.006330\n",
      "ct_dst_ltm           0.007154\n",
      "dtcpb                0.007387\n",
      "dloss                0.007429\n",
      "stcpb                0.007625\n",
      "spkts                0.007902\n",
      "ct_src_ltm           0.008077\n",
      "ct_dst_sport_ltm     0.008165\n",
      "sloss                0.009892\n",
      "djit                 0.012021\n",
      "dpkts                0.013169\n",
      "sjit                 0.013239\n",
      "ct_srv_src           0.019862\n",
      "dbytes               0.019997\n",
      "synack               0.022770\n",
      "ackdat               0.022878\n",
      "ct_dst_src_ltm       0.023428\n",
      "sinpkt               0.024716\n",
      "smean                0.027958\n",
      "dur                  0.029539\n",
      "ct_srv_dst           0.030825\n",
      "tcprtt               0.031332\n",
      "sbytes               0.033168\n",
      "dmean                0.038563\n",
      "sload                0.039895\n",
      "dttl                 0.046970\n",
      "dinpkt               0.047097\n",
      "dload                0.051136\n",
      "rate                 0.053978\n",
      "ct_state_ttl         0.121444\n",
      "sttl                 0.190439\n",
      "dtype: float64\n"
     ]
    },
    {
     "data": {
      "image/png": "[encoded data removed]",
      "text/plain": [
       "<Figure size 720x576 with 1 Axes>"
      ]
     },
     "metadata": {
      "needs_background": "light"
     },
     "output_type": "display_data"
    }
   ],
   "source": [
    "# Plot the feature importance\n",
    "feat_scores = pd.Series(clf.feature_importances_,\n",
    "                           index=X.columns)\n",
    "feat_scores = feat_scores.sort_values()\n",
    "ax = feat_scores.plot(kind='barh', \n",
    "                      figsize=(10,8),\n",
    "                      color='b')\n",
    "ax.set_title('Average Gini Importance')\n",
    "ax.set_xlabel('Average contribution to information gain');\n",
    "print(feat_scores)"
   ]
  },
  {
   "cell_type": "code",
   "execution_count": 43,
   "metadata": {},
   "outputs": [
    {
     "data": {
      "image/png": "[encoded data removed]",
      "text/plain": [
       "<Figure size 1440x720 with 4 Axes>"
      ]
     },
     "metadata": {
      "needs_background": "light"
     },
     "output_type": "display_data"
    }
   ],
   "source": [
    "clf_name = models[2][0] # the classifier name\n",
    "clf = models[2][1] # the classifier itself\n",
    "\n",
    "features = [6,28,5]\n",
    "plot_partial_dependence(estimator=clf, X=X_train_transform, \n",
    "                        features=features, feature_names=new_cols,\n",
    "                        target=1)\n",
    "\n",
    "fig = plt.gcf() # get current figure (gcf)\n",
    "fig.suptitle(\"Partial dependence of Attack or Normal on top 3 features\\n\"\n",
    "              \"with {}\".format(clf_name))\n",
    "fig.set_size_inches(20, 10)\n",
    "fig.subplots_adjust(hspace=.4, wspace=.25, top=.9)\n"
   ]
  },
  {
   "cell_type": "code",
   "execution_count": 44,
   "metadata": {},
   "outputs": [
    {
     "name": "stdout",
     "output_type": "stream",
     "text": [
      "Warning: Maximum number of iterations has been exceeded.\n",
      "         Current function value: 0.180155\n",
      "         Iterations: 35\n"
     ]
    },
    {
     "name": "stderr",
     "output_type": "stream",
     "text": [
      "/home/jokera/miniconda3/lib/python3.7/site-packages/statsmodels/base/model.py:568: ConvergenceWarning: Maximum Likelihood optimization failed to converge. Check mle_retvals\n",
      "  \"Check mle_retvals\", ConvergenceWarning)\n",
      "/home/jokera/miniconda3/lib/python3.7/site-packages/statsmodels/base/model.py:1354: RuntimeWarning: invalid value encountered in sqrt\n",
      "  bse_ = np.sqrt(np.diag(self.cov_params()))\n",
      "/home/jokera/miniconda3/lib/python3.7/site-packages/scipy/stats/_distn_infrastructure.py:903: RuntimeWarning: invalid value encountered in greater\n",
      "  return (a < x) & (x < b)\n",
      "/home/jokera/miniconda3/lib/python3.7/site-packages/scipy/stats/_distn_infrastructure.py:903: RuntimeWarning: invalid value encountered in less\n",
      "  return (a < x) & (x < b)\n",
      "/home/jokera/miniconda3/lib/python3.7/site-packages/scipy/stats/_distn_infrastructure.py:1912: RuntimeWarning: invalid value encountered in less_equal\n",
      "  cond2 = cond0 & (x <= _a)\n"
     ]
    },
    {
     "name": "stdout",
     "output_type": "stream",
     "text": [
      "                           Logit Regression Results                           \n",
      "==============================================================================\n",
      "Dep. Variable:                  label   No. Observations:               175341\n",
      "Model:                          Logit   Df Residuals:                   175306\n",
      "Method:                           MLE   Df Model:                           34\n",
      "Date:                Sat, 06 Jun 2020   Pseudo R-squ.:                  0.7124\n",
      "Time:                        16:31:57   Log-Likelihood:                -31589.\n",
      "converged:                      False   LL-Null:                   -1.0983e+05\n",
      "Covariance Type:            nonrobust   LLR p-value:                     0.000\n",
      "=====================================================================================\n",
      "                        coef    std err          z      P>|z|      [0.025      0.975]\n",
      "-------------------------------------------------------------------------------------\n",
      "Intercept            -2.0590      0.072    -28.619      0.000      -2.200      -1.918\n",
      "dur                   0.0359      0.003     11.694      0.000       0.030       0.042\n",
      "spkts                -0.0182      0.001    -12.606      0.000      -0.021      -0.015\n",
      "dpkts                -0.0156      0.002     -8.043      0.000      -0.019      -0.012\n",
      "sbytes             1.848e-05    1.9e-06      9.716      0.000    1.48e-05    2.22e-05\n",
      "dbytes            -4.732e-05   1.46e-06    -32.520      0.000   -5.02e-05   -4.45e-05\n",
      "rate               1.243e-06   1.52e-07      8.188      0.000    9.45e-07    1.54e-06\n",
      "sttl                  0.0110      0.000     61.500      0.000       0.011       0.011\n",
      "dttl                  0.0525      0.001     43.681      0.000       0.050       0.055\n",
      "sload             -5.522e-10   5.64e-11     -9.783      0.000   -6.63e-10   -4.42e-10\n",
      "dload             -9.609e-06   2.07e-07    -46.351      0.000      -1e-05    -9.2e-06\n",
      "sloss                 0.0414      0.004     11.160      0.000       0.034       0.049\n",
      "dloss                 0.1671      0.006     29.740      0.000       0.156       0.178\n",
      "sinpkt               -0.0001   8.96e-06    -15.090      0.000      -0.000      -0.000\n",
      "dinpkt            -4.287e-05   2.31e-05     -1.855      0.064   -8.82e-05    2.42e-06\n",
      "sjit               1.275e-06   4.16e-07      3.062      0.002    4.59e-07    2.09e-06\n",
      "djit              -3.471e-06   6.04e-06     -0.575      0.565   -1.53e-05    8.36e-06\n",
      "swin                 -0.0534      0.003    -19.504      0.000      -0.059      -0.048\n",
      "stcpb              -1.14e-11    9.9e-12     -1.152      0.250   -3.08e-11    8.01e-12\n",
      "dtcpb              9.435e-12   9.93e-12      0.950      0.342      -1e-11    2.89e-11\n",
      "dwin              -9.296e-05      0.003     -0.032      0.974      -0.006       0.006\n",
      "tcprtt               -4.3296        nan        nan        nan         nan         nan\n",
      "synack               -6.7422        nan        nan        nan         nan         nan\n",
      "ackdat                2.5259        nan        nan        nan         nan         nan\n",
      "smean                -0.0009   6.88e-05    -13.272      0.000      -0.001      -0.001\n",
      "dmean                 0.0137      0.000     43.101      0.000       0.013       0.014\n",
      "trans_depth           1.1616      0.041     28.261      0.000       1.081       1.242\n",
      "response_body_len -1.479e-06   4.07e-07     -3.638      0.000   -2.28e-06   -6.82e-07\n",
      "ct_srv_src           -0.0728      0.005    -13.739      0.000      -0.083      -0.062\n",
      "ct_state_ttl          1.2392      0.028     43.715      0.000       1.184       1.295\n",
      "ct_dst_ltm            0.0042      0.005      0.771      0.441      -0.006       0.015\n",
      "ct_src_dport_ltm      0.0176      0.008      2.141      0.032       0.001       0.034\n",
      "ct_dst_sport_ltm      0.2700      0.008     34.250      0.000       0.255       0.285\n",
      "ct_dst_src_ltm        0.2281      0.009     24.789      0.000       0.210       0.246\n",
      "is_ftp_login          0.8607   1.03e+07   8.39e-08      1.000   -2.01e+07    2.01e+07\n",
      "ct_ftp_cmd            0.8607   1.03e+07   8.39e-08      1.000   -2.01e+07    2.01e+07\n",
      "ct_flw_http_mthd     -0.0445      0.011     -4.109      0.000      -0.066      -0.023\n",
      "ct_src_ltm            0.0040      0.003      1.423      0.155      -0.001       0.009\n",
      "ct_srv_dst           -0.2584      0.009    -29.732      0.000      -0.275      -0.241\n",
      "is_sm_ips_ports     -18.1057    392.979     -0.046      0.963    -788.331     752.119\n",
      "=====================================================================================\n",
      "\n",
      "Possibly complete quasi-separation: A fraction 0.18 of observations can be\n",
      "perfectly predicted. This might indicate that there is complete\n",
      "quasi-separation. In this case some parameters will not be identified.\n"
     ]
    },
    {
     "data": {
      "image/png": "[encoded data removed]",
      "text/plain": [
       "<Figure size 432x180 with 1 Axes>"
      ]
     },
     "metadata": {
      "needs_background": "light"
     },
     "output_type": "display_data"
    },
    {
     "data": {
      "image/png": "[encoded data removed]",
      "text/plain": [
       "<Figure size 432x288 with 1 Axes>"
      ]
     },
     "metadata": {
      "needs_background": "light"
     },
     "output_type": "display_data"
    }
   ],
   "source": [
    "import statsmodels.api as sm\n",
    "import statsmodels.formula.api as smf\n",
    "from math import exp\n",
    "\n",
    "# df = pd.concat([pd.Series(X_train.all()), pd.Series(y2_train.all())])\n",
    "# print(df)\n",
    "\n",
    "logreg = smf.logit(formula='label ~ dur+spkts+dpkts+sbytes+dbytes+rate+sttl+dttl+sload+dload+sloss+dloss+sinpkt+dinpkt+sjit+djit+swin+stcpb+dtcpb+dwin+tcprtt+synack+ackdat+smean+dmean+trans_depth+response_body_len+ct_srv_src+ct_state_ttl+ct_dst_ltm+ct_src_dport_ltm+ct_dst_sport_ltm+ct_dst_src_ltm+is_ftp_login+ct_ftp_cmd+ct_flw_http_mthd+ct_src_ltm+ct_srv_dst+is_sm_ips_ports', data=data_to_use).fit()\n",
    "print(logreg.summary())\n",
    "\n",
    "arr = []\n",
    "for i in logreg.fittedvalues:\n",
    "    arr.append(exp(i)/(1+exp(i)))\n",
    "pred_val = arr\n",
    "# true_val = y2_train.values.copy()\n",
    "true_val = y2_train.copy()\n",
    "residual = true_val - pred_val\n",
    "fig, ax = plt.subplots(figsize=(6,2.5))\n",
    "_ = ax.scatter(residual, pred_val)\n",
    "plt.show()\n",
    "plt.hist(residual, bins=200)\n",
    "plt.show()"
   ]
  }
 ],
 "metadata": {
  "kernelspec": {
   "display_name": "Python 3",
   "language": "python",
   "name": "python3"
  },
  "language_info": {
   "codemirror_mode": {
    "name": "ipython",
    "version": 3
   },
   "file_extension": ".py",
   "mimetype": "text/x-python",
   "name": "python",
   "nbconvert_exporter": "python",
   "pygments_lexer": "ipython3",
   "version": "3.7.7"
  }
 },
 "nbformat": 4,
 "nbformat_minor": 4
}
